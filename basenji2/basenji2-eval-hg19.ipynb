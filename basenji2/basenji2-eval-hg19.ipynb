{
 "cells": [
  {
   "cell_type": "code",
   "execution_count": 46,
   "id": "78da1f71",
   "metadata": {},
   "outputs": [],
   "source": [
    "import genvarloader as gvl\n",
    "import scipy.stats as st\n",
    "import polars.selectors as cs\n",
    "from genoray import PGEN\n",
    "from genoray.exprs import is_snp, is_biallelic\n",
    "from basenji2_pytorch import Basenji2, basenji2_params, basenji2_weights\n",
    "import polars as pl\n",
    "from typing import cast\n",
    "from math import log\n",
    "import seqpro as sp\n",
    "import seaborn as sns\n",
    "import torch\n",
    "import numpy as np\n",
    "import matplotlib.pyplot as plt\n",
    "from einops import rearrange\n",
    "from tqdm.auto import tqdm"
   ]
  },
  {
   "cell_type": "markdown",
   "id": "d09f07ff",
   "metadata": {},
   "source": [
    "# Prep"
   ]
  },
  {
   "cell_type": "code",
   "execution_count": 10,
   "id": "fc323ec9",
   "metadata": {},
   "outputs": [],
   "source": [
    "ds_path = \"/carter/users/dlaub/projects/gvl-paper/basenji2/data/geuvadis.autosomes.hg19.gvl\"\n",
    "basenji2_in_len = 2**17\n",
    "basenji2_out_len = 896\n",
    "basenji2_bin_size = 128"
   ]
  },
  {
   "cell_type": "code",
   "execution_count": 11,
   "id": "43a7ae2b",
   "metadata": {},
   "outputs": [],
   "source": [
    "var_samples = pl.read_csv(\n",
    "    \"/carter/users/dlaub/data/1kGP-rna-seq/E-GEUV-3_analysis/geuvadis.psam\",\n",
    "    separator=\"\\t\",\n",
    ")['#IID'].to_list()"
   ]
  },
  {
   "cell_type": "code",
   "execution_count": 12,
   "id": "dac81587",
   "metadata": {},
   "outputs": [
    {
     "data": {
      "text/html": [
       "<div><style>\n",
       ".dataframe > thead > tr,\n",
       ".dataframe > tbody > tr {\n",
       "  text-align: right;\n",
       "  white-space: pre-wrap;\n",
       "}\n",
       "</style>\n",
       "<small>shape: (5, 5)</small><table border=\"1\" class=\"dataframe\"><thead><tr><th>gene_id</th><th>chrom</th><th>chromStart</th><th>hgnc</th><th>strand</th></tr><tr><td>str</td><td>i64</td><td>i64</td><td>str</td><td>str</td></tr></thead><tbody><tr><td>&quot;ENSG00000000457&quot;</td><td>1</td><td>169863408</td><td>&quot;SCYL3&quot;</td><td>&quot;-&quot;</td></tr><tr><td>&quot;ENSG00000001630&quot;</td><td>7</td><td>91772266</td><td>&quot;CYP51A1&quot;</td><td>&quot;-&quot;</td></tr><tr><td>&quot;ENSG00000002549&quot;</td><td>4</td><td>17578815</td><td>&quot;LAP3&quot;</td><td>&quot;+&quot;</td></tr><tr><td>&quot;ENSG00000002745&quot;</td><td>7</td><td>120965421</td><td>&quot;WNT16&quot;</td><td>&quot;+&quot;</td></tr><tr><td>&quot;ENSG00000003056&quot;</td><td>12</td><td>9102551</td><td>&quot;M6PR&quot;</td><td>&quot;-&quot;</td></tr></tbody></table></div>"
      ],
      "text/plain": [
       "shape: (5, 5)\n",
       "┌─────────────────┬───────┬────────────┬─────────┬────────┐\n",
       "│ gene_id         ┆ chrom ┆ chromStart ┆ hgnc    ┆ strand │\n",
       "│ ---             ┆ ---   ┆ ---        ┆ ---     ┆ ---    │\n",
       "│ str             ┆ i64   ┆ i64        ┆ str     ┆ str    │\n",
       "╞═════════════════╪═══════╪════════════╪═════════╪════════╡\n",
       "│ ENSG00000000457 ┆ 1     ┆ 169863408  ┆ SCYL3   ┆ -      │\n",
       "│ ENSG00000001630 ┆ 7     ┆ 91772266   ┆ CYP51A1 ┆ -      │\n",
       "│ ENSG00000002549 ┆ 4     ┆ 17578815   ┆ LAP3    ┆ +      │\n",
       "│ ENSG00000002745 ┆ 7     ┆ 120965421  ┆ WNT16   ┆ +      │\n",
       "│ ENSG00000003056 ┆ 12    ┆ 9102551    ┆ M6PR    ┆ -      │\n",
       "└─────────────────┴───────┴────────────┴─────────┴────────┘"
      ]
     },
     "execution_count": 12,
     "metadata": {},
     "output_type": "execute_result"
    }
   ],
   "source": [
    "genes = pl.read_csv(\n",
    "    \"/carter/users/dlaub/projects/gvl-paper/basenji2/gene_list.csv\",\n",
    "    has_header=False,\n",
    "    new_columns=[\"gene_id\", \"chrom\", \"chromStart\", \"hgnc\", \"strand\"],\n",
    ")\n",
    "genes.head()"
   ]
  },
  {
   "cell_type": "code",
   "execution_count": 13,
   "id": "eabfa434",
   "metadata": {},
   "outputs": [
    {
     "name": "stdout",
     "output_type": "stream",
     "text": [
      "3259 3259 462\n"
     ]
    },
    {
     "data": {
      "text/html": [
       "<div><style>\n",
       ".dataframe > thead > tr,\n",
       ".dataframe > tbody > tr {\n",
       "  text-align: right;\n",
       "  white-space: pre-wrap;\n",
       "}\n",
       "</style>\n",
       "<small>shape: (5, 463)</small><table border=\"1\" class=\"dataframe\"><thead><tr><th>gene_id</th><th>HG00096</th><th>HG00097</th><th>HG00099</th><th>HG00100</th><th>HG00101</th><th>HG00102</th><th>HG00103</th><th>HG00104</th><th>HG00105</th><th>HG00106</th><th>HG00108</th><th>HG00109</th><th>HG00110</th><th>HG00111</th><th>HG00112</th><th>HG00114</th><th>HG00115</th><th>HG00116</th><th>HG00117</th><th>HG00118</th><th>HG00119</th><th>HG00120</th><th>HG00121</th><th>HG00122</th><th>HG00123</th><th>HG00124</th><th>HG00125</th><th>HG00126</th><th>HG00127</th><th>HG00128</th><th>HG00129</th><th>HG00130</th><th>HG00131</th><th>HG00132</th><th>HG00133</th><th>HG00134</th><th>&hellip;</th><th>NA20770</th><th>NA20771</th><th>NA20772</th><th>NA20773</th><th>NA20774</th><th>NA20778</th><th>NA20783</th><th>NA20785</th><th>NA20786</th><th>NA20787</th><th>NA20790</th><th>NA20792</th><th>NA20795</th><th>NA20796</th><th>NA20797</th><th>NA20798</th><th>NA20799</th><th>NA20800</th><th>NA20801</th><th>NA20802</th><th>NA20803</th><th>NA20804</th><th>NA20805</th><th>NA20806</th><th>NA20807</th><th>NA20808</th><th>NA20809</th><th>NA20810</th><th>NA20811</th><th>NA20812</th><th>NA20813</th><th>NA20814</th><th>NA20815</th><th>NA20816</th><th>NA20819</th><th>NA20826</th><th>NA20828</th></tr><tr><td>str</td><td>f64</td><td>f64</td><td>f64</td><td>f64</td><td>f64</td><td>f64</td><td>f64</td><td>f64</td><td>f64</td><td>f64</td><td>f64</td><td>f64</td><td>f64</td><td>f64</td><td>f64</td><td>f64</td><td>f64</td><td>f64</td><td>f64</td><td>f64</td><td>f64</td><td>f64</td><td>f64</td><td>f64</td><td>f64</td><td>f64</td><td>f64</td><td>f64</td><td>f64</td><td>f64</td><td>f64</td><td>f64</td><td>f64</td><td>f64</td><td>f64</td><td>f64</td><td>&hellip;</td><td>f64</td><td>f64</td><td>f64</td><td>f64</td><td>f64</td><td>f64</td><td>f64</td><td>f64</td><td>f64</td><td>f64</td><td>f64</td><td>f64</td><td>f64</td><td>f64</td><td>f64</td><td>f64</td><td>f64</td><td>f64</td><td>f64</td><td>f64</td><td>f64</td><td>f64</td><td>f64</td><td>f64</td><td>f64</td><td>f64</td><td>f64</td><td>f64</td><td>f64</td><td>f64</td><td>f64</td><td>f64</td><td>f64</td><td>f64</td><td>f64</td><td>f64</td><td>f64</td></tr></thead><tbody><tr><td>&quot;ENSG00000000457&quot;</td><td>2.931598</td><td>3.140177</td><td>2.244776</td><td>2.81148</td><td>2.837441</td><td>2.558739</td><td>3.222918</td><td>2.882317</td><td>2.99278</td><td>2.968469</td><td>2.640006</td><td>2.96404</td><td>3.178503</td><td>2.877948</td><td>3.133748</td><td>2.921671</td><td>2.960012</td><td>3.184406</td><td>2.977955</td><td>2.941812</td><td>3.255446</td><td>2.800092</td><td>3.117055</td><td>3.049827</td><td>2.922898</td><td>3.244766</td><td>2.84497</td><td>3.041862</td><td>3.06226</td><td>3.015695</td><td>2.899309</td><td>2.915384</td><td>3.326138</td><td>2.86082</td><td>2.897777</td><td>2.747475</td><td>&hellip;</td><td>3.075311</td><td>2.997922</td><td>3.151415</td><td>2.930786</td><td>2.673931</td><td>2.784277</td><td>3.348821</td><td>3.510797</td><td>3.180127</td><td>2.937587</td><td>3.063693</td><td>3.333205</td><td>3.079004</td><td>3.166981</td><td>2.7067</td><td>3.324133</td><td>3.097668</td><td>2.842835</td><td>2.697607</td><td>2.698421</td><td>2.978329</td><td>3.046703</td><td>3.144758</td><td>2.782715</td><td>3.06975</td><td>2.891104</td><td>2.893421</td><td>2.952677</td><td>2.869649</td><td>2.804927</td><td>3.255143</td><td>3.076577</td><td>2.984109</td><td>3.141895</td><td>3.186543</td><td>3.165044</td><td>3.149742</td></tr><tr><td>&quot;ENSG00000001630&quot;</td><td>5.243522</td><td>5.254291</td><td>4.743122</td><td>5.165065</td><td>5.508409</td><td>5.436345</td><td>5.094442</td><td>5.671152</td><td>5.560941</td><td>4.958463</td><td>5.327279</td><td>5.484112</td><td>5.404432</td><td>5.298302</td><td>5.49555</td><td>5.388366</td><td>5.314826</td><td>5.335098</td><td>5.45525</td><td>5.244614</td><td>5.321617</td><td>5.559788</td><td>5.138869</td><td>5.397729</td><td>4.881141</td><td>5.142103</td><td>5.110888</td><td>4.96077</td><td>4.975971</td><td>5.362956</td><td>5.352687</td><td>5.430543</td><td>5.440641</td><td>5.439125</td><td>5.247444</td><td>5.22508</td><td>&hellip;</td><td>5.62847</td><td>5.344381</td><td>5.234146</td><td>5.171865</td><td>5.355888</td><td>5.527908</td><td>5.130563</td><td>4.876342</td><td>5.168707</td><td>5.486384</td><td>5.236632</td><td>5.39799</td><td>5.696301</td><td>5.580772</td><td>4.680338</td><td>5.5497</td><td>5.065044</td><td>5.449657</td><td>5.375687</td><td>5.391198</td><td>5.528409</td><td>5.168126</td><td>5.450947</td><td>5.603893</td><td>5.365786</td><td>5.094545</td><td>5.284731</td><td>5.36017</td><td>5.435211</td><td>5.5433</td><td>5.673632</td><td>5.212856</td><td>5.264935</td><td>5.558429</td><td>5.586847</td><td>5.492437</td><td>5.315439</td></tr><tr><td>&quot;ENSG00000002549&quot;</td><td>6.663014</td><td>6.869873</td><td>6.340609</td><td>7.019437</td><td>6.814486</td><td>7.077219</td><td>6.861647</td><td>7.119924</td><td>7.137763</td><td>6.63782</td><td>7.056425</td><td>6.764851</td><td>7.021541</td><td>6.562665</td><td>7.105234</td><td>7.127753</td><td>6.889584</td><td>5.774006</td><td>6.74339</td><td>6.689699</td><td>7.042266</td><td>6.78297</td><td>7.361635</td><td>7.052123</td><td>6.862205</td><td>7.299658</td><td>6.9956</td><td>6.763587</td><td>6.448113</td><td>7.085797</td><td>6.758582</td><td>6.93361</td><td>6.711811</td><td>6.992169</td><td>7.115387</td><td>6.951429</td><td>&hellip;</td><td>6.813124</td><td>7.110503</td><td>6.799148</td><td>7.148959</td><td>6.623436</td><td>6.883789</td><td>6.840434</td><td>6.958998</td><td>6.633534</td><td>6.899227</td><td>6.95887</td><td>7.004662</td><td>7.036034</td><td>6.99611</td><td>6.685966</td><td>6.701324</td><td>6.810408</td><td>6.66492</td><td>6.88647</td><td>6.754432</td><td>6.843899</td><td>6.620893</td><td>6.707971</td><td>7.057052</td><td>6.882407</td><td>6.739473</td><td>6.899468</td><td>6.460921</td><td>6.864801</td><td>7.196899</td><td>6.952156</td><td>6.940546</td><td>7.10876</td><td>6.676775</td><td>6.845775</td><td>6.778758</td><td>6.7926</td></tr><tr><td>&quot;ENSG00000002745&quot;</td><td>0.382985</td><td>0.233011</td><td>0.043301</td><td>0.221877</td><td>0.153917</td><td>0.349477</td><td>0.16196</td><td>0.026184</td><td>0.236181</td><td>0.313456</td><td>0.083506</td><td>0.306676</td><td>0.159147</td><td>0.266666</td><td>0.184163</td><td>0.243376</td><td>0.398232</td><td>0.046684</td><td>0.277083</td><td>0.127501</td><td>0.192247</td><td>0.234395</td><td>0.175509</td><td>0.240182</td><td>0.23571</td><td>0.420965</td><td>-0.067128</td><td>0.211877</td><td>0.02425</td><td>0.300218</td><td>0.323947</td><td>0.17433</td><td>0.108839</td><td>0.125412</td><td>0.666503</td><td>-0.042113</td><td>&hellip;</td><td>0.162325</td><td>0.118648</td><td>0.273519</td><td>0.116798</td><td>0.043293</td><td>0.096995</td><td>0.146344</td><td>0.098731</td><td>0.200517</td><td>0.100747</td><td>-0.032996</td><td>0.104284</td><td>0.636317</td><td>0.081165</td><td>0.064087</td><td>0.153327</td><td>0.149929</td><td>0.953069</td><td>0.04275</td><td>0.165065</td><td>0.191501</td><td>0.377184</td><td>0.016317</td><td>0.016814</td><td>0.532975</td><td>0.290175</td><td>0.073313</td><td>0.207794</td><td>0.455368</td><td>0.304623</td><td>0.097147</td><td>0.098622</td><td>0.181968</td><td>0.161204</td><td>-0.045138</td><td>0.090483</td><td>-0.074871</td></tr><tr><td>&quot;ENSG00000003056&quot;</td><td>7.006797</td><td>6.955064</td><td>6.309078</td><td>6.814483</td><td>6.8951</td><td>7.126598</td><td>7.020002</td><td>6.917494</td><td>6.792945</td><td>6.888045</td><td>6.819</td><td>7.043565</td><td>7.054049</td><td>7.03521</td><td>7.293131</td><td>6.868421</td><td>7.070224</td><td>6.861477</td><td>6.971607</td><td>7.109891</td><td>7.09009</td><td>7.18324</td><td>6.944421</td><td>6.888635</td><td>7.024218</td><td>6.964932</td><td>6.472605</td><td>7.156976</td><td>6.881854</td><td>6.924399</td><td>7.150262</td><td>6.822055</td><td>6.892179</td><td>6.648831</td><td>6.914114</td><td>6.997049</td><td>&hellip;</td><td>7.149597</td><td>7.142139</td><td>7.190254</td><td>6.909133</td><td>6.80567</td><td>6.675559</td><td>7.198447</td><td>7.072565</td><td>7.168932</td><td>7.192656</td><td>6.517074</td><td>7.124623</td><td>7.041709</td><td>6.886188</td><td>6.679895</td><td>6.948122</td><td>6.92352</td><td>6.72931</td><td>7.020267</td><td>6.787303</td><td>6.758335</td><td>7.327399</td><td>6.920565</td><td>6.971327</td><td>6.426941</td><td>7.082464</td><td>7.048587</td><td>7.034429</td><td>7.325066</td><td>7.205497</td><td>6.852689</td><td>6.951744</td><td>6.827468</td><td>7.136559</td><td>7.05967</td><td>6.879903</td><td>7.024424</td></tr></tbody></table></div>"
      ],
      "text/plain": [
       "shape: (5, 463)\n",
       "┌───────────────┬──────────┬──────────┬──────────┬───┬──────────┬───────────┬──────────┬───────────┐\n",
       "│ gene_id       ┆ HG00096  ┆ HG00097  ┆ HG00099  ┆ … ┆ NA20816  ┆ NA20819   ┆ NA20826  ┆ NA20828   │\n",
       "│ ---           ┆ ---      ┆ ---      ┆ ---      ┆   ┆ ---      ┆ ---       ┆ ---      ┆ ---       │\n",
       "│ str           ┆ f64      ┆ f64      ┆ f64      ┆   ┆ f64      ┆ f64       ┆ f64      ┆ f64       │\n",
       "╞═══════════════╪══════════╪══════════╪══════════╪═══╪══════════╪═══════════╪══════════╪═══════════╡\n",
       "│ ENSG000000004 ┆ 2.931598 ┆ 3.140177 ┆ 2.244776 ┆ … ┆ 3.141895 ┆ 3.186543  ┆ 3.165044 ┆ 3.149742  │\n",
       "│ 57            ┆          ┆          ┆          ┆   ┆          ┆           ┆          ┆           │\n",
       "│ ENSG000000016 ┆ 5.243522 ┆ 5.254291 ┆ 4.743122 ┆ … ┆ 5.558429 ┆ 5.586847  ┆ 5.492437 ┆ 5.315439  │\n",
       "│ 30            ┆          ┆          ┆          ┆   ┆          ┆           ┆          ┆           │\n",
       "│ ENSG000000025 ┆ 6.663014 ┆ 6.869873 ┆ 6.340609 ┆ … ┆ 6.676775 ┆ 6.845775  ┆ 6.778758 ┆ 6.7926    │\n",
       "│ 49            ┆          ┆          ┆          ┆   ┆          ┆           ┆          ┆           │\n",
       "│ ENSG000000027 ┆ 0.382985 ┆ 0.233011 ┆ 0.043301 ┆ … ┆ 0.161204 ┆ -0.045138 ┆ 0.090483 ┆ -0.074871 │\n",
       "│ 45            ┆          ┆          ┆          ┆   ┆          ┆           ┆          ┆           │\n",
       "│ ENSG000000030 ┆ 7.006797 ┆ 6.955064 ┆ 6.309078 ┆ … ┆ 7.136559 ┆ 7.05967   ┆ 6.879903 ┆ 7.024424  │\n",
       "│ 56            ┆          ┆          ┆          ┆   ┆          ┆           ┆          ┆           │\n",
       "└───────────────┴──────────┴──────────┴──────────┴───┴──────────┴───────────┴──────────┴───────────┘"
      ]
     },
     "execution_count": 13,
     "metadata": {},
     "output_type": "execute_result"
    }
   ],
   "source": [
    "sample_ids = (\n",
    "    pl.scan_csv(\n",
    "        \"/carter/users/dlaub/data/1kGP-rna-seq/sample_id_to_bigwig.csv\",\n",
    "    )\n",
    "    .select(\"path\", \"sample\")\n",
    "    .with_columns(pl.col(\"path\").str.extract(r\"(ERR\\d{6})\"))\n",
    "    .collect()\n",
    ")\n",
    "expr = (\n",
    "    pl.read_csv(\n",
    "        \"/carter/users/dlaub/data/1kGP-rna-seq/E-GEUV-3_analysis/rna/GD462.GeneQuantRPKM.50FN.samplename.resk10.txt.gz\",\n",
    "        separator=\"\\t\",\n",
    "        comment_prefix=\"#\",\n",
    "    )\n",
    "    .rename({\"TargetID\": \"gene_id\"})\n",
    "    .drop(\"Gene_Symbol\", \"Chr\", \"Coord\")\n",
    "    .with_columns(\n",
    "        pl.col(\"gene_id\").str.split(\".\").list.get(0),\n",
    "        (cs.numeric() / cs.numeric().sum() * int(1e6)).log1p()\n",
    "        / log(2),  # log2(CPM + 1)\n",
    "    )\n",
    "    .join(genes, \"gene_id\")\n",
    "    .sort(\"gene_id\")\n",
    "    .rename(dict(zip(*sample_ids)), strict=False)\n",
    ")\n",
    "samples = sorted(list(set(var_samples).intersection(expr.columns)))\n",
    "expr = expr.select(\"gene_id\", *samples)\n",
    "assert genes.height >= expr.height\n",
    "assert len(samples) == expr.width - 1\n",
    "print(genes.height, expr.height, len(samples))\n",
    "expr.head()"
   ]
  },
  {
   "cell_type": "markdown",
   "id": "c140b736",
   "metadata": {},
   "source": [
    "# Write"
   ]
  },
  {
   "cell_type": "code",
   "execution_count": 3,
   "id": "f8319dff",
   "metadata": {},
   "outputs": [
    {
     "name": "stderr",
     "output_type": "stream",
     "text": [
      "\u001b[32m2025-05-17 12:08:24.469\u001b[0m | \u001b[1mINFO    \u001b[0m | \u001b[36mgenoray._pgen\u001b[0m:\u001b[36m_read_index\u001b[0m:\u001b[36m1077\u001b[0m - \u001b[1mLoading genoray index.\u001b[0m\n"
     ]
    }
   ],
   "source": [
    "var = PGEN(\n",
    "    \"/carter/users/dlaub/data/1kGP-rna-seq/E-GEUV-3_analysis/geuvadis.pgen\",\n",
    "    filter=is_snp & is_biallelic & ~pl.col(\"ID\").str.starts_with(\"sv\"),\n",
    ")"
   ]
  },
  {
   "cell_type": "code",
   "execution_count": 6,
   "id": "34fcd73c",
   "metadata": {},
   "outputs": [
    {
     "data": {
      "text/html": [
       "<div><style>\n",
       ".dataframe > thead > tr,\n",
       ".dataframe > tbody > tr {\n",
       "  text-align: right;\n",
       "  white-space: pre-wrap;\n",
       "}\n",
       "</style>\n",
       "<small>shape: (5, 6)</small><table border=\"1\" class=\"dataframe\"><thead><tr><th>gene_id</th><th>chrom</th><th>chromStart</th><th>hgnc</th><th>strand</th><th>chromEnd</th></tr><tr><td>str</td><td>str</td><td>i64</td><td>str</td><td>str</td><td>i64</td></tr></thead><tbody><tr><td>&quot;ENSG00000000457&quot;</td><td>&quot;1&quot;</td><td>169797871</td><td>&quot;SCYL3&quot;</td><td>&quot;-&quot;</td><td>169928945</td></tr><tr><td>&quot;ENSG00000001630&quot;</td><td>&quot;7&quot;</td><td>91706729</td><td>&quot;CYP51A1&quot;</td><td>&quot;-&quot;</td><td>91837803</td></tr><tr><td>&quot;ENSG00000002549&quot;</td><td>&quot;4&quot;</td><td>17513278</td><td>&quot;LAP3&quot;</td><td>&quot;+&quot;</td><td>17644352</td></tr><tr><td>&quot;ENSG00000002745&quot;</td><td>&quot;7&quot;</td><td>120899884</td><td>&quot;WNT16&quot;</td><td>&quot;+&quot;</td><td>121030958</td></tr><tr><td>&quot;ENSG00000003056&quot;</td><td>&quot;12&quot;</td><td>9037014</td><td>&quot;M6PR&quot;</td><td>&quot;-&quot;</td><td>9168088</td></tr></tbody></table></div>"
      ],
      "text/plain": [
       "shape: (5, 6)\n",
       "┌─────────────────┬───────┬────────────┬─────────┬────────┬───────────┐\n",
       "│ gene_id         ┆ chrom ┆ chromStart ┆ hgnc    ┆ strand ┆ chromEnd  │\n",
       "│ ---             ┆ ---   ┆ ---        ┆ ---     ┆ ---    ┆ ---       │\n",
       "│ str             ┆ str   ┆ i64        ┆ str     ┆ str    ┆ i64       │\n",
       "╞═════════════════╪═══════╪════════════╪═════════╪════════╪═══════════╡\n",
       "│ ENSG00000000457 ┆ 1     ┆ 169797871  ┆ SCYL3   ┆ -      ┆ 169928945 │\n",
       "│ ENSG00000001630 ┆ 7     ┆ 91706729   ┆ CYP51A1 ┆ -      ┆ 91837803  │\n",
       "│ ENSG00000002549 ┆ 4     ┆ 17513278   ┆ LAP3    ┆ +      ┆ 17644352  │\n",
       "│ ENSG00000002745 ┆ 7     ┆ 120899884  ┆ WNT16   ┆ +      ┆ 121030958 │\n",
       "│ ENSG00000003056 ┆ 12    ┆ 9037014    ┆ M6PR    ┆ -      ┆ 9168088   │\n",
       "└─────────────────┴───────┴────────────┴─────────┴────────┴───────────┘"
      ]
     },
     "execution_count": 6,
     "metadata": {},
     "output_type": "execute_result"
    }
   ],
   "source": [
    "bed = gvl.with_length(\n",
    "    genes.with_columns(chromEnd=pl.col(\"chromStart\")), basenji2_in_len + 2\n",
    ").with_columns(pl.col(\"chrom\").cast(pl.Utf8))\n",
    "bed.head()"
   ]
  },
  {
   "cell_type": "code",
   "execution_count": 8,
   "id": "25b687ee",
   "metadata": {},
   "outputs": [
    {
     "name": "stderr",
     "output_type": "stream",
     "text": [
      "\u001b[32m2025-05-17 12:09:41.679\u001b[0m | \u001b[1mINFO    \u001b[0m | \u001b[36mgenvarloader._dataset._write\u001b[0m:\u001b[36mwrite\u001b[0m:\u001b[36m76\u001b[0m - \u001b[1mWriting dataset to /carter/users/dlaub/projects/gvl-paper/basenji2/data/geuvadis.autosomes.hg19.gvl\u001b[0m\n",
      "\u001b[32m2025-05-17 12:09:41.682\u001b[0m | \u001b[1mINFO    \u001b[0m | \u001b[36mgenvarloader._dataset._write\u001b[0m:\u001b[36mwrite\u001b[0m:\u001b[36m83\u001b[0m - \u001b[1mFound existing GVL store, overwriting.\u001b[0m\n",
      "\u001b[32m2025-05-17 12:09:41.875\u001b[0m | \u001b[1mINFO    \u001b[0m | \u001b[36mgenvarloader._dataset._write\u001b[0m:\u001b[36mwrite\u001b[0m:\u001b[36m148\u001b[0m - \u001b[1mUsing 462 samples.\u001b[0m\n",
      "\u001b[32m2025-05-17 12:09:41.876\u001b[0m | \u001b[1mINFO    \u001b[0m | \u001b[36mgenvarloader._dataset._write\u001b[0m:\u001b[36mwrite\u001b[0m:\u001b[36m154\u001b[0m - \u001b[1mWriting genotypes.\u001b[0m\n"
     ]
    },
    {
     "data": {
      "application/vnd.jupyter.widget-view+json": {
       "model_id": "c23e1e1f614c4a12b0d172da03167a5e",
       "version_major": 2,
       "version_minor": 0
      },
      "text/plain": [
       "  0%|          | 0/3259 [00:00<?, ? region/s]"
      ]
     },
     "metadata": {},
     "output_type": "display_data"
    },
    {
     "name": "stderr",
     "output_type": "stream",
     "text": [
      "\u001b[32m2025-05-17 12:11:36.939\u001b[0m | \u001b[33m\u001b[1mWARNING \u001b[0m | \u001b[36mgenvarloader._dataset._write\u001b[0m:\u001b[36m_write_from_pgen\u001b[0m:\u001b[36m431\u001b[0m - \u001b[33m\u001b[1mA region has no variants for any sample. This could be expected depending on the region lengths and source of variants. However, this can also be caused by a mismatch between the reference genome used for the BED file coordinates and the one used for the variants.\u001b[0m\n",
      "\u001b[32m2025-05-17 12:13:22.579\u001b[0m | \u001b[1mINFO    \u001b[0m | \u001b[36mgenvarloader._dataset._write\u001b[0m:\u001b[36mwrite\u001b[0m:\u001b[36m178\u001b[0m - \u001b[1mFinished writing.\u001b[0m\n"
     ]
    }
   ],
   "source": [
    "gvl.write(ds_path, bed, var, samples=samples, overwrite=True)"
   ]
  },
  {
   "cell_type": "markdown",
   "id": "0382a1fb",
   "metadata": {},
   "source": [
    "# Evaluate"
   ]
  },
  {
   "cell_type": "code",
   "execution_count": null,
   "id": "aa58dd73",
   "metadata": {},
   "outputs": [
    {
     "name": "stderr",
     "output_type": "stream",
     "text": [
      "\u001b[32m2025-06-03 12:17:52.613\u001b[0m | \u001b[1mINFO    \u001b[0m | \u001b[36mgenvarloader._dataset._impl\u001b[0m:\u001b[36mopen\u001b[0m:\u001b[36m201\u001b[0m - \u001b[1mLoading reference genome into memory. This typically has a modest memory footprint (a few GB) and greatly improves performance.\u001b[0m\n",
      "\u001b[32m2025-06-03 12:17:52.794\u001b[0m | \u001b[1mINFO    \u001b[0m | \u001b[36mgenvarloader._dataset._reference\u001b[0m:\u001b[36mfrom_path\u001b[0m:\u001b[36m84\u001b[0m - \u001b[1mMemory-mapping FASTA file for faster access.\u001b[0m\n"
     ]
    },
    {
     "data": {
      "application/vnd.jupyter.widget-view+json": {
       "model_id": "5b160d630318464bb6de16afd7294ec2",
       "version_major": 2,
       "version_minor": 0
      },
      "text/plain": [
       "  0%|          | 0/3101804739 [00:00<?, ? nucleotide/s]"
      ]
     },
     "metadata": {},
     "output_type": "display_data"
    },
    {
     "name": "stderr",
     "output_type": "stream",
     "text": [
      "\u001b[32m2025-06-03 12:18:27.473\u001b[0m | \u001b[1mINFO    \u001b[0m | \u001b[36mgenvarloader._dataset._reconstruct\u001b[0m:\u001b[36mfrom_path\u001b[0m:\u001b[36m183\u001b[0m - \u001b[1mLoading variant data.\u001b[0m\n",
      "\u001b[32m2025-06-03 12:18:32.505\u001b[0m | \u001b[1mINFO    \u001b[0m | \u001b[36mgenvarloader._dataset._impl\u001b[0m:\u001b[36mopen\u001b[0m:\u001b[36m287\u001b[0m - \u001b[1mOpened dataset:\n",
      "GVL store at /carter/users/dlaub/projects/gvl-paper/basenji2/data/geuvadis.autosomes.hg19.gvl\n",
      "Is subset: False\n",
      "# of regions: 3259\n",
      "# of samples: 462\n",
      "Output length: ragged\n",
      "Jitter: 0 (max: 0)\n",
      "Deterministic: True\n",
      "Sequence type: reference [haplotypes] annotated variants\n",
      "Active tracks: None\n",
      "Tracks available: None\n",
      "\u001b[0m\n"
     ]
    }
   ],
   "source": [
    "ref = \"/carter/shared/genomes/homo_sapiens/grch37.primary.fa.bgz\"\n",
    "ds = gvl.Dataset.open(ds_path, ref).with_len(basenji2_in_len)"
   ]
  },
  {
   "cell_type": "code",
   "execution_count": 6,
   "id": "6ee3a355",
   "metadata": {},
   "outputs": [
    {
     "data": {
      "text/html": [
       "<div><style>\n",
       ".dataframe > thead > tr,\n",
       ".dataframe > tbody > tr {\n",
       "  text-align: right;\n",
       "  white-space: pre-wrap;\n",
       "}\n",
       "</style>\n",
       "<small>shape: (5, 8)</small><table border=\"1\" class=\"dataframe\"><thead><tr><th>index</th><th>genome</th><th>identifier</th><th>file</th><th>clip</th><th>scale</th><th>sum_stat</th><th>description</th></tr><tr><td>i64</td><td>i64</td><td>str</td><td>str</td><td>i64</td><td>i64</td><td>str</td><td>str</td></tr></thead><tbody><tr><td>0</td><td>0</td><td>&quot;ENCFF833POA&quot;</td><td>&quot;/home/drk/tillage/datasets/hum…</td><td>32</td><td>2</td><td>&quot;mean&quot;</td><td>&quot;DNASE:cerebellum male adult (2…</td></tr><tr><td>1</td><td>0</td><td>&quot;ENCFF110QGM&quot;</td><td>&quot;/home/drk/tillage/datasets/hum…</td><td>32</td><td>2</td><td>&quot;mean&quot;</td><td>&quot;DNASE:frontal cortex male adul…</td></tr><tr><td>2</td><td>0</td><td>&quot;ENCFF880MKD&quot;</td><td>&quot;/home/drk/tillage/datasets/hum…</td><td>32</td><td>2</td><td>&quot;mean&quot;</td><td>&quot;DNASE:chorion&quot;</td></tr><tr><td>3</td><td>0</td><td>&quot;ENCFF463ZLQ&quot;</td><td>&quot;/home/drk/tillage/datasets/hum…</td><td>32</td><td>2</td><td>&quot;mean&quot;</td><td>&quot;DNASE:Ishikawa treated with 0.…</td></tr><tr><td>4</td><td>0</td><td>&quot;ENCFF890OGQ&quot;</td><td>&quot;/home/drk/tillage/datasets/hum…</td><td>32</td><td>2</td><td>&quot;mean&quot;</td><td>&quot;DNASE:GM03348&quot;</td></tr></tbody></table></div>"
      ],
      "text/plain": [
       "shape: (5, 8)\n",
       "┌───────┬────────┬─────────────┬────────────────────┬──────┬───────┬──────────┬────────────────────┐\n",
       "│ index ┆ genome ┆ identifier  ┆ file               ┆ clip ┆ scale ┆ sum_stat ┆ description        │\n",
       "│ ---   ┆ ---    ┆ ---         ┆ ---                ┆ ---  ┆ ---   ┆ ---      ┆ ---                │\n",
       "│ i64   ┆ i64    ┆ str         ┆ str                ┆ i64  ┆ i64   ┆ str      ┆ str                │\n",
       "╞═══════╪════════╪═════════════╪════════════════════╪══════╪═══════╪══════════╪════════════════════╡\n",
       "│ 0     ┆ 0      ┆ ENCFF833POA ┆ /home/drk/tillage/ ┆ 32   ┆ 2     ┆ mean     ┆ DNASE:cerebellum   │\n",
       "│       ┆        ┆             ┆ datasets/hum…      ┆      ┆       ┆          ┆ male adult (2…     │\n",
       "│ 1     ┆ 0      ┆ ENCFF110QGM ┆ /home/drk/tillage/ ┆ 32   ┆ 2     ┆ mean     ┆ DNASE:frontal      │\n",
       "│       ┆        ┆             ┆ datasets/hum…      ┆      ┆       ┆          ┆ cortex male adul…  │\n",
       "│ 2     ┆ 0      ┆ ENCFF880MKD ┆ /home/drk/tillage/ ┆ 32   ┆ 2     ┆ mean     ┆ DNASE:chorion      │\n",
       "│       ┆        ┆             ┆ datasets/hum…      ┆      ┆       ┆          ┆                    │\n",
       "│ 3     ┆ 0      ┆ ENCFF463ZLQ ┆ /home/drk/tillage/ ┆ 32   ┆ 2     ┆ mean     ┆ DNASE:Ishikawa     │\n",
       "│       ┆        ┆             ┆ datasets/hum…      ┆      ┆       ┆          ┆ treated with 0.…   │\n",
       "│ 4     ┆ 0      ┆ ENCFF890OGQ ┆ /home/drk/tillage/ ┆ 32   ┆ 2     ┆ mean     ┆ DNASE:GM03348      │\n",
       "│       ┆        ┆             ┆ datasets/hum…      ┆      ┆       ┆          ┆                    │\n",
       "└───────┴────────┴─────────────┴────────────────────┴──────┴───────┴──────────┴────────────────────┘"
      ]
     },
     "execution_count": 6,
     "metadata": {},
     "output_type": "execute_result"
    }
   ],
   "source": [
    "target_df = pl.read_csv(\n",
    "    \"/carter/users/dlaub/projects/gvl-paper/basenji2/targets_human.tsv\", separator=\"\\t\"\n",
    ")\n",
    "target_df.head()"
   ]
  },
  {
   "cell_type": "code",
   "execution_count": 7,
   "id": "c8458bb7",
   "metadata": {},
   "outputs": [
    {
     "data": {
      "text/plain": [
       "[5110]"
      ]
     },
     "execution_count": 7,
     "metadata": {},
     "output_type": "execute_result"
    }
   ],
   "source": [
    "targets = target_df.filter(pl.col(\"description\").str.contains(r\"lymphoblastoid\"))[\n",
    "    \"index\"\n",
    "].to_list()\n",
    "targets"
   ]
  },
  {
   "cell_type": "markdown",
   "id": "102008b7",
   "metadata": {},
   "source": [
    "## Predict"
   ]
  },
  {
   "cell_type": "code",
   "execution_count": 11,
   "id": "1920482b",
   "metadata": {},
   "outputs": [],
   "source": [
    "ploidy = 2\n",
    "# (r s p t)\n",
    "pred_expr = np.memmap(\n",
    "    \"/carter/users/dlaub/projects/gvl-paper/basenji2/data/preds_hg19.npy\",\n",
    "    dtype=np.float32,\n",
    "    mode=\"w+\",\n",
    "    shape=(ds.n_regions, ds.n_samples, ploidy, len(targets), basenji2_out_len),\n",
    ")"
   ]
  },
  {
   "cell_type": "code",
   "execution_count": 12,
   "id": "19fc8147",
   "metadata": {},
   "outputs": [],
   "source": [
    "basenji2 = Basenji2(basenji2_params[\"model\"])\n",
    "basenji2.load_state_dict(torch.load(basenji2_weights()))\n",
    "basenji2 = basenji2.cuda().eval()\n",
    "basenji2 = cast(Basenji2, torch.compile(basenji2))"
   ]
  },
  {
   "cell_type": "code",
   "execution_count": 13,
   "id": "32aeb33f",
   "metadata": {},
   "outputs": [
    {
     "data": {
      "application/vnd.jupyter.widget-view+json": {
       "model_id": "2a96cbdbccdc4fedb7ed953d864c80c6",
       "version_major": 2,
       "version_minor": 0
      },
      "text/plain": [
       "  0%|          | 0/47052 [00:00<?, ?it/s]"
      ]
     },
     "metadata": {},
     "output_type": "display_data"
    },
    {
     "name": "stderr",
     "output_type": "stream",
     "text": [
      "W0517 12:35:21.009000 3198029 site-packages/torch/_inductor/utils.py:1137] [0/0] Not enough SMs to use max_autotune_gemm mode\n"
     ]
    }
   ],
   "source": [
    "def transform(haps):\n",
    "    haps = sp.DNA.ohe(haps).swapaxes(-2, -1)\n",
    "    return haps\n",
    "\n",
    "batch_size = 32\n",
    "with torch.no_grad(), torch.autocast(\"cuda\"):\n",
    "    for batch_idx, batch in enumerate(\n",
    "        tqdm(ds.to_dataloader(batch_size, transform=transform))\n",
    "    ):\n",
    "        bsize = len(batch)\n",
    "        s = batch_idx * batch_size\n",
    "        e = s + bsize\n",
    "        ds_idx = np.arange(s, e)\n",
    "        r_idx, s_idx = np.unravel_index(ds_idx, ds.shape)\n",
    "        batch = rearrange(batch, \"b p a l -> (b p) a l\").to(\"cuda\", torch.float32)\n",
    "        pred = basenji2(batch)[..., targets]\n",
    "        pred = rearrange(pred, \"(b p) l t -> b p t l\", b=bsize)\n",
    "        pred_expr[r_idx, s_idx] = pred.numpy(force=True)"
   ]
  },
  {
   "cell_type": "markdown",
   "id": "9a43bd89",
   "metadata": {},
   "source": [
    "## Metrics"
   ]
  },
  {
   "cell_type": "code",
   "execution_count": 8,
   "id": "cbd94d1e",
   "metadata": {},
   "outputs": [],
   "source": [
    "ploidy = 2\n",
    "# (r s p t)\n",
    "pred_expr = np.memmap(\n",
    "    \"/carter/users/dlaub/projects/gvl-paper/basenji2/data/preds_hg19.npy\",\n",
    "    dtype=np.float32,\n",
    "    mode=\"r\",\n",
    "    shape=(ds.n_regions, ds.n_samples, ploidy, len(targets), basenji2_out_len),\n",
    ")"
   ]
  },
  {
   "cell_type": "code",
   "execution_count": 9,
   "id": "df6841c4",
   "metadata": {},
   "outputs": [
    {
     "ename": "NameError",
     "evalue": "name 'expr' is not defined",
     "output_type": "error",
     "traceback": [
      "\u001b[31m---------------------------------------------------------------------------\u001b[39m",
      "\u001b[31mNameError\u001b[39m                                 Traceback (most recent call last)",
      "\u001b[36mCell\u001b[39m\u001b[36m \u001b[39m\u001b[32mIn[9]\u001b[39m\u001b[32m, line 6\u001b[39m\n\u001b[32m      1\u001b[39m \u001b[38;5;66;03m# (genes, samples)\u001b[39;00m\n\u001b[32m      2\u001b[39m huang_expr = pred_expr[..., basenji2_out_len // \u001b[32m2\u001b[39m - \u001b[32m5\u001b[39m : basenji2_out_len // \u001b[32m2\u001b[39m + \u001b[32m5\u001b[39m].mean(\n\u001b[32m      3\u001b[39m     axis=(\u001b[32m2\u001b[39m, \u001b[32m3\u001b[39m, \u001b[32m4\u001b[39m)\n\u001b[32m      4\u001b[39m )\n\u001b[32m      5\u001b[39m gene_rho = np.diag(\n\u001b[32m----> \u001b[39m\u001b[32m6\u001b[39m     st.spearmanr(\u001b[43mexpr\u001b[49m[:, \u001b[32m1\u001b[39m:].to_numpy(), huang_expr, axis=\u001b[32m0\u001b[39m).statistic, ds.n_samples\n\u001b[32m      7\u001b[39m )\n\u001b[32m      8\u001b[39m indiv_rho = np.diag(\n\u001b[32m      9\u001b[39m     st.spearmanr(expr[:, \u001b[32m1\u001b[39m:].to_numpy(), huang_expr, axis=\u001b[32m1\u001b[39m).statistic, ds.n_regions\n\u001b[32m     10\u001b[39m )\n",
      "\u001b[31mNameError\u001b[39m: name 'expr' is not defined"
     ]
    }
   ],
   "source": [
    "# (g s p t l) -> (g s)\n",
    "huang_expr = pred_expr[..., basenji2_out_len // 2 - 5 : basenji2_out_len // 2 + 5].mean(\n",
    "    axis=(2, 3, 4)\n",
    ")"
   ]
  },
  {
   "cell_type": "code",
   "execution_count": 14,
   "id": "81caabe2",
   "metadata": {},
   "outputs": [],
   "source": [
    "gene_rho = np.diag(\n",
    "    st.spearmanr(expr[:, 1:].to_numpy(), huang_expr, axis=0).statistic, ds.n_samples\n",
    ")\n",
    "indiv_rho = np.diag(\n",
    "    st.spearmanr(expr[:, 1:].to_numpy(), huang_expr, axis=1).statistic, ds.n_regions\n",
    ")"
   ]
  },
  {
   "cell_type": "code",
   "execution_count": 45,
   "id": "6231a669",
   "metadata": {},
   "outputs": [
    {
     "data": {
      "image/png": "[encoded data removed]",
      "text/plain": [
       "<Figure size 1280x960 with 1 Axes>"
      ]
     },
     "metadata": {},
     "output_type": "display_data"
    }
   ],
   "source": [
    "with sns.plotting_context(\"paper\", font_scale=1.5):\n",
    "    fig, ax = plt.subplots(dpi=200)\n",
    "    sns.ecdfplot(gene_rho.ravel(), label=r\"$\\rho$ across genes\", ax=ax)\n",
    "    sns.ecdfplot(indiv_rho.ravel(), label=r\"$\\rho$ across individuals\", ax=ax)\n",
    "    ax.legend(loc=\"best\")\n",
    "    # ax.legend(bbox_to_anchor=(-0.05, 0), loc=\"lower left\", transform=ax.transData)"
   ]
  }
 ],
 "metadata": {
  "kernelspec": {
   "display_name": "gvl-basenji2",
   "language": "python",
   "name": "gvl-basenji2"
  },
  "language_info": {
   "codemirror_mode": {
    "name": "ipython",
    "version": 3
   },
   "file_extension": ".py",
   "mimetype": "text/x-python",
   "name": "python",
   "nbconvert_exporter": "python",
   "pygments_lexer": "ipython3",
   "version": "3.12.10"
  }
 },
 "nbformat": 4,
 "nbformat_minor": 5
}
